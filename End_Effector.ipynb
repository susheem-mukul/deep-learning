{
  "nbformat": 4,
  "nbformat_minor": 0,
  "metadata": {
    "colab": {
      "name": "End Effector.ipynb",
      "provenance": [],
      "collapsed_sections": [],
      "authorship_tag": "ABX9TyOx7kfQU6ilKykcmi8XS4Kw",
      "include_colab_link": true
    },
    "kernelspec": {
      "name": "python3",
      "display_name": "Python 3"
    }
  },
  "cells": [
    {
      "cell_type": "markdown",
      "metadata": {
        "id": "view-in-github",
        "colab_type": "text"
      },
      "source": [
        "<a href=\"https://colab.research.google.com/github/susheem-mukul/deep-learning/blob/main/End_Effector.ipynb\" target=\"_parent\"><img src=\"https://colab.research.google.com/assets/colab-badge.svg\" alt=\"Open In Colab\"/></a>"
      ]
    },
    {
      "cell_type": "code",
      "metadata": {
        "id": "g4bX1__XB4KR"
      },
      "source": [
        "import numpy as np\r\n",
        "import random\r\n",
        "import math\r\n",
        "import matplotlib.pyplot as plt\r\n",
        "import pandas as pd"
      ],
      "execution_count": null,
      "outputs": []
    },
    {
      "cell_type": "code",
      "metadata": {
        "id": "GFz_WdxbB8o_"
      },
      "source": [
        "def rand(start,end,num):\r\n",
        "  res=[]\r\n",
        "  for j in range(num):\r\n",
        "    res.append(random.uniform(start,end))\r\n",
        "  \r\n",
        "  return res"
      ],
      "execution_count": null,
      "outputs": []
    },
    {
      "cell_type": "code",
      "metadata": {
        "id": "jSRXfif1CeX0"
      },
      "source": [
        "q1=rand(0,3.14,1000)\r\n",
        "q2=rand(-3.14,0,1000)\r\n",
        "q3=rand(-3.14/2,3.14/2,1000)\r\n",
        "fi=rand(0,2*math.pi,1000)\r\n"
      ],
      "execution_count": null,
      "outputs": []
    },
    {
      "cell_type": "code",
      "metadata": {
        "id": "mgsztHuELdW6"
      },
      "source": [
        "l1=2\r\n",
        "l2=2\r\n",
        "l3=2"
      ],
      "execution_count": null,
      "outputs": []
    },
    {
      "cell_type": "code",
      "metadata": {
        "id": "rDOpgf9d7cju"
      },
      "source": [
        ""
      ],
      "execution_count": null,
      "outputs": []
    },
    {
      "cell_type": "code",
      "metadata": {
        "id": "3dg4v31rC8KD"
      },
      "source": [
        "x=[]\r\n",
        "y=[]\r\n",
        "th=[]\r\n",
        "xp=[]\r\n",
        "yp=[]\r\n",
        "fie=[]\r\n",
        "for f in range(0,1000):\r\n",
        "  x.append(l1*math.cos(q1[f])+l2*math.cos(q1[f]+q2[f])+l3*math.cos(q1[f]+q2[f]+q3[f]))\r\n",
        "  y.append(l1*math.sin(q1[f])+l2*math.sin(q1[f]+q2[f])+l3*math.sin(q1[f]+q2[f]+q3[f]))\r\n",
        "  th.append(q1[f]+q2[f]+q3[f])\r\n",
        "  xp.append(2+2*math.cos(fi[f]))\r\n",
        "  yp.append(2+2*math.sin(fi[f]))\r\n",
        "  fie.append(math.tan(yp[f]/xp[f]))"
      ],
      "execution_count": null,
      "outputs": []
    },
    {
      "cell_type": "code",
      "metadata": {
        "colab": {
          "base_uri": "https://localhost:8080/",
          "height": 282
        },
        "id": "4VeHI_B2DcsE",
        "outputId": "e318dc42-05c9-4eb5-edc1-3181d61ad1d3"
      },
      "source": [
        "plt.plot(xp,yp,'bo')"
      ],
      "execution_count": null,
      "outputs": [
        {
          "output_type": "execute_result",
          "data": {
            "text/plain": [
              "[<matplotlib.lines.Line2D at 0x7f1b77d90da0>]"
            ]
          },
          "metadata": {
            "tags": []
          },
          "execution_count": 7
        },
        {
          "output_type": "display_data",
          "data": {
            "image/png": "[encoded data removed]",
            "text/plain": [
              "<Figure size 432x288 with 1 Axes>"
            ]
          },
          "metadata": {
            "tags": [],
            "needs_background": "light"
          }
        }
      ]
    },
    {
      "cell_type": "code",
      "metadata": {
        "id": "2f7KY8flD6z3"
      },
      "source": [
        "from tensorflow.keras.models import Sequential\r\n",
        "from tensorflow.keras.layers import Dense, Activation\r\n",
        "from tensorflow.keras.optimizers import Adam"
      ],
      "execution_count": null,
      "outputs": []
    },
    {
      "cell_type": "code",
      "metadata": {
        "id": "wFzIrMC0N0fU"
      },
      "source": [
        "from pandas import DataFrame\r\n",
        "df=pd.DataFrame(list(zip(q1,q2,q3,x,y,th)),columns=['q1','q2','q3','x','y','th'])"
      ],
      "execution_count": null,
      "outputs": []
    },
    {
      "cell_type": "code",
      "metadata": {
        "colab": {
          "base_uri": "https://localhost:8080/",
          "height": 419
        },
        "id": "AFGXCTslN0kA",
        "outputId": "47a95481-2eb1-4818-bdf2-466f5b1a84ca"
      },
      "source": [
        "df"
      ],
      "execution_count": null,
      "outputs": [
        {
          "output_type": "execute_result",
          "data": {
            "text/html": [
              "<div>\n",
              "<style scoped>\n",
              "    .dataframe tbody tr th:only-of-type {\n",
              "        vertical-align: middle;\n",
              "    }\n",
              "\n",
              "    .dataframe tbody tr th {\n",
              "        vertical-align: top;\n",
              "    }\n",
              "\n",
              "    .dataframe thead th {\n",
              "        text-align: right;\n",
              "    }\n",
              "</style>\n",
              "<table border=\"1\" class=\"dataframe\">\n",
              "  <thead>\n",
              "    <tr style=\"text-align: right;\">\n",
              "      <th></th>\n",
              "      <th>q1</th>\n",
              "      <th>q2</th>\n",
              "      <th>q3</th>\n",
              "      <th>x</th>\n",
              "      <th>y</th>\n",
              "      <th>th</th>\n",
              "    </tr>\n",
              "  </thead>\n",
              "  <tbody>\n",
              "    <tr>\n",
              "      <th>0</th>\n",
              "      <td>2.588743</td>\n",
              "      <td>-2.250442</td>\n",
              "      <td>-1.310468</td>\n",
              "      <td>1.311598</td>\n",
              "      <td>0.061780</td>\n",
              "      <td>-0.972167</td>\n",
              "    </tr>\n",
              "    <tr>\n",
              "      <th>1</th>\n",
              "      <td>1.804829</td>\n",
              "      <td>-2.244890</td>\n",
              "      <td>1.110772</td>\n",
              "      <td>2.912408</td>\n",
              "      <td>2.336575</td>\n",
              "      <td>0.670711</td>\n",
              "    </tr>\n",
              "    <tr>\n",
              "      <th>2</th>\n",
              "      <td>0.760120</td>\n",
              "      <td>-0.864386</td>\n",
              "      <td>1.081864</td>\n",
              "      <td>4.556676</td>\n",
              "      <td>2.828178</td>\n",
              "      <td>0.977599</td>\n",
              "    </tr>\n",
              "    <tr>\n",
              "      <th>3</th>\n",
              "      <td>1.630860</td>\n",
              "      <td>-0.214040</td>\n",
              "      <td>0.899577</td>\n",
              "      <td>-1.170142</td>\n",
              "      <td>5.442094</td>\n",
              "      <td>2.316396</td>\n",
              "    </tr>\n",
              "    <tr>\n",
              "      <th>4</th>\n",
              "      <td>2.747781</td>\n",
              "      <td>-2.324327</td>\n",
              "      <td>0.151060</td>\n",
              "      <td>1.655358</td>\n",
              "      <td>2.676098</td>\n",
              "      <td>0.574513</td>\n",
              "    </tr>\n",
              "    <tr>\n",
              "      <th>...</th>\n",
              "      <td>...</td>\n",
              "      <td>...</td>\n",
              "      <td>...</td>\n",
              "      <td>...</td>\n",
              "      <td>...</td>\n",
              "      <td>...</td>\n",
              "    </tr>\n",
              "    <tr>\n",
              "      <th>995</th>\n",
              "      <td>1.989836</td>\n",
              "      <td>-2.257411</td>\n",
              "      <td>-1.155744</td>\n",
              "      <td>1.408949</td>\n",
              "      <td>-0.680117</td>\n",
              "      <td>-1.423320</td>\n",
              "    </tr>\n",
              "    <tr>\n",
              "      <th>996</th>\n",
              "      <td>2.991663</td>\n",
              "      <td>-1.725491</td>\n",
              "      <td>-0.556955</td>\n",
              "      <td>0.140052</td>\n",
              "      <td>3.509136</td>\n",
              "      <td>0.709217</td>\n",
              "    </tr>\n",
              "    <tr>\n",
              "      <th>997</th>\n",
              "      <td>2.700115</td>\n",
              "      <td>-0.298469</td>\n",
              "      <td>-0.075345</td>\n",
              "      <td>-4.656565</td>\n",
              "      <td>3.658898</td>\n",
              "      <td>2.326301</td>\n",
              "    </tr>\n",
              "    <tr>\n",
              "      <th>998</th>\n",
              "      <td>1.743115</td>\n",
              "      <td>-1.480126</td>\n",
              "      <td>0.826321</td>\n",
              "      <td>2.514496</td>\n",
              "      <td>4.262930</td>\n",
              "      <td>1.089309</td>\n",
              "    </tr>\n",
              "    <tr>\n",
              "      <th>999</th>\n",
              "      <td>2.330335</td>\n",
              "      <td>-2.503321</td>\n",
              "      <td>-1.339857</td>\n",
              "      <td>0.708818</td>\n",
              "      <td>-0.890585</td>\n",
              "      <td>-1.512843</td>\n",
              "    </tr>\n",
              "  </tbody>\n",
              "</table>\n",
              "<p>1000 rows × 6 columns</p>\n",
              "</div>"
            ],
            "text/plain": [
              "           q1        q2        q3         x         y        th\n",
              "0    2.588743 -2.250442 -1.310468  1.311598  0.061780 -0.972167\n",
              "1    1.804829 -2.244890  1.110772  2.912408  2.336575  0.670711\n",
              "2    0.760120 -0.864386  1.081864  4.556676  2.828178  0.977599\n",
              "3    1.630860 -0.214040  0.899577 -1.170142  5.442094  2.316396\n",
              "4    2.747781 -2.324327  0.151060  1.655358  2.676098  0.574513\n",
              "..        ...       ...       ...       ...       ...       ...\n",
              "995  1.989836 -2.257411 -1.155744  1.408949 -0.680117 -1.423320\n",
              "996  2.991663 -1.725491 -0.556955  0.140052  3.509136  0.709217\n",
              "997  2.700115 -0.298469 -0.075345 -4.656565  3.658898  2.326301\n",
              "998  1.743115 -1.480126  0.826321  2.514496  4.262930  1.089309\n",
              "999  2.330335 -2.503321 -1.339857  0.708818 -0.890585 -1.512843\n",
              "\n",
              "[1000 rows x 6 columns]"
            ]
          },
          "metadata": {
            "tags": []
          },
          "execution_count": 10
        }
      ]
    },
    {
      "cell_type": "code",
      "metadata": {
        "colab": {
          "base_uri": "https://localhost:8080/",
          "height": 445
        },
        "id": "bQxlGYMzN0oH",
        "outputId": "8c0eee23-927f-44cb-fa3e-f8120f73255c"
      },
      "source": [
        "plt.figure(figsize=(11,7))\r\n",
        "plt.plot(x,y,'*')"
      ],
      "execution_count": null,
      "outputs": [
        {
          "output_type": "execute_result",
          "data": {
            "text/plain": [
              "[<matplotlib.lines.Line2D at 0x7f1b3dd92b70>]"
            ]
          },
          "metadata": {
            "tags": []
          },
          "execution_count": 11
        },
        {
          "output_type": "display_data",
          "data": {
            "image/png": "[encoded data removed]",
            "text/plain": [
              "<Figure size 792x504 with 1 Axes>"
            ]
          },
          "metadata": {
            "tags": [],
            "needs_background": "light"
          }
        }
      ]
    },
    {
      "cell_type": "code",
      "metadata": {
        "id": "AIz6E3APSkYL"
      },
      "source": [
        "from tensorflow.keras.models import Sequential\r\n",
        "from tensorflow.keras.layers import Dense, Activation\r\n",
        "from tensorflow.keras.optimizers import Adam"
      ],
      "execution_count": null,
      "outputs": []
    },
    {
      "cell_type": "code",
      "metadata": {
        "id": "KGy3UVEtSkbC"
      },
      "source": [
        "model = Sequential()\r\n",
        "model.add(Dense(3,activation='relu'))\r\n",
        "model.add(Dense(100,activation='tanh'))\r\n",
        "model.add(Dense(3,activation='relu'))\r\n",
        "\r\n",
        "model.compile(optimizer='adam',loss='mse')"
      ],
      "execution_count": null,
      "outputs": []
    },
    {
      "cell_type": "code",
      "metadata": {
        "id": "ihwufa4LSkdi"
      },
      "source": [
        "x1=df[['x','y','th']]"
      ],
      "execution_count": null,
      "outputs": []
    },
    {
      "cell_type": "code",
      "metadata": {
        "id": "tz2_vtfJSkgJ"
      },
      "source": [
        "y1=df[['q1','q2','q3']]"
      ],
      "execution_count": null,
      "outputs": []
    },
    {
      "cell_type": "code",
      "metadata": {
        "id": "3Hd2CEYMSkij"
      },
      "source": [
        "from sklearn.model_selection import train_test_split"
      ],
      "execution_count": null,
      "outputs": []
    },
    {
      "cell_type": "code",
      "metadata": {
        "id": "48AG0N3sSklF"
      },
      "source": [
        "x_train, x_test, y_train, y_test = train_test_split(x1,y1,test_size=0.3,random_state=101)"
      ],
      "execution_count": null,
      "outputs": []
    },
    {
      "cell_type": "code",
      "metadata": {
        "colab": {
          "base_uri": "https://localhost:8080/"
        },
        "id": "VEyKaChYSkna",
        "outputId": "48e121de-46f3-4082-b699-09486bbd4e63"
      },
      "source": [
        "from sklearn.preprocessing import MinMaxScaler\r\n",
        "scaler = MinMaxScaler()\r\n",
        "x_train= scaler.fit_transform(x_train)\r\n",
        "x_test = scaler.transform(x_test)\r\n",
        "x_train.shape"
      ],
      "execution_count": null,
      "outputs": [
        {
          "output_type": "execute_result",
          "data": {
            "text/plain": [
              "(700, 3)"
            ]
          },
          "metadata": {
            "tags": []
          },
          "execution_count": 115
        }
      ]
    },
    {
      "cell_type": "code",
      "metadata": {
        "colab": {
          "base_uri": "https://localhost:8080/"
        },
        "id": "W6iBWvGGSkpz",
        "outputId": "0473c3cf-18bd-489a-8fd8-72e4e2e39040"
      },
      "source": [
        "model.fit(x=x_train,y=y_train,validation_data=(x_test,y_test),epochs=20)"
      ],
      "execution_count": null,
      "outputs": [
        {
          "output_type": "stream",
          "text": [
            "Epoch 1/20\n",
            "22/22 [==============================] - 1s 9ms/step - loss: 2.2997 - val_loss: 2.2580\n",
            "Epoch 2/20\n",
            "22/22 [==============================] - 0s 3ms/step - loss: 2.0586 - val_loss: 1.9129\n",
            "Epoch 3/20\n",
            "22/22 [==============================] - 0s 3ms/step - loss: 1.6754 - val_loss: 1.7337\n",
            "Epoch 4/20\n",
            "22/22 [==============================] - 0s 3ms/step - loss: 1.5946 - val_loss: 1.7163\n",
            "Epoch 5/20\n",
            "22/22 [==============================] - 0s 3ms/step - loss: 1.5655 - val_loss: 1.7077\n",
            "Epoch 6/20\n",
            "22/22 [==============================] - 0s 3ms/step - loss: 1.6021 - val_loss: 1.6971\n",
            "Epoch 7/20\n",
            "22/22 [==============================] - 0s 3ms/step - loss: 1.6042 - val_loss: 1.6830\n",
            "Epoch 8/20\n",
            "22/22 [==============================] - 0s 4ms/step - loss: 1.5926 - val_loss: 1.6683\n",
            "Epoch 9/20\n",
            "22/22 [==============================] - 0s 4ms/step - loss: 1.5079 - val_loss: 1.6525\n",
            "Epoch 10/20\n",
            "22/22 [==============================] - 0s 3ms/step - loss: 1.5914 - val_loss: 1.6367\n",
            "Epoch 11/20\n",
            "22/22 [==============================] - 0s 3ms/step - loss: 1.4589 - val_loss: 1.6247\n",
            "Epoch 12/20\n",
            "22/22 [==============================] - 0s 3ms/step - loss: 1.5751 - val_loss: 1.6143\n",
            "Epoch 13/20\n",
            "22/22 [==============================] - 0s 4ms/step - loss: 1.5194 - val_loss: 1.6063\n",
            "Epoch 14/20\n",
            "22/22 [==============================] - 0s 4ms/step - loss: 1.5439 - val_loss: 1.6025\n",
            "Epoch 15/20\n",
            "22/22 [==============================] - 0s 4ms/step - loss: 1.4951 - val_loss: 1.5997\n",
            "Epoch 16/20\n",
            "22/22 [==============================] - 0s 3ms/step - loss: 1.4831 - val_loss: 1.5988\n",
            "Epoch 17/20\n",
            "22/22 [==============================] - 0s 3ms/step - loss: 1.4268 - val_loss: 1.5972\n",
            "Epoch 18/20\n",
            "22/22 [==============================] - 0s 3ms/step - loss: 1.4418 - val_loss: 1.5983\n",
            "Epoch 19/20\n",
            "22/22 [==============================] - 0s 3ms/step - loss: 1.4955 - val_loss: 1.5975\n",
            "Epoch 20/20\n",
            "22/22 [==============================] - 0s 3ms/step - loss: 1.5345 - val_loss: 1.5960\n"
          ],
          "name": "stdout"
        },
        {
          "output_type": "execute_result",
          "data": {
            "text/plain": [
              "<tensorflow.python.keras.callbacks.History at 0x7f1b293c3390>"
            ]
          },
          "metadata": {
            "tags": []
          },
          "execution_count": 116
        }
      ]
    },
    {
      "cell_type": "code",
      "metadata": {
        "id": "kJ1YYltpvT52"
      },
      "source": [
        "losses = pd.DataFrame(model.history.history)"
      ],
      "execution_count": null,
      "outputs": []
    },
    {
      "cell_type": "code",
      "metadata": {
        "colab": {
          "base_uri": "https://localhost:8080/",
          "height": 282
        },
        "id": "nS_ab_zAvT9p",
        "outputId": "eb3cb97a-3d3f-4844-9060-c1a4ac441399"
      },
      "source": [
        "losses.plot()"
      ],
      "execution_count": null,
      "outputs": [
        {
          "output_type": "execute_result",
          "data": {
            "text/plain": [
              "<matplotlib.axes._subplots.AxesSubplot at 0x7f1b28acb518>"
            ]
          },
          "metadata": {
            "tags": []
          },
          "execution_count": 119
        },
        {
          "output_type": "display_data",
          "data": {
            "image/png": "[encoded data removed]",
            "text/plain": [
              "<Figure size 432x288 with 1 Axes>"
            ]
          },
          "metadata": {
            "tags": [],
            "needs_background": "light"
          }
        }
      ]
    },
    {
      "cell_type": "code",
      "metadata": {
        "id": "awtn01mHvT_8"
      },
      "source": [
        "df1=pd.DataFrame(list(zip(xp,yp,fie)),columns=['xp','yp','fie'])"
      ],
      "execution_count": null,
      "outputs": []
    },
    {
      "cell_type": "code",
      "metadata": {
        "id": "u1S2xERevUCV"
      },
      "source": [
        "pred=model.predict(df1)"
      ],
      "execution_count": null,
      "outputs": []
    },
    {
      "cell_type": "code",
      "metadata": {
        "id": "Ews7mb0aM4nD"
      },
      "source": [
        "p=pred"
      ],
      "execution_count": null,
      "outputs": []
    },
    {
      "cell_type": "code",
      "metadata": {
        "id": "_yxqUJVK1sM4"
      },
      "source": [
        "qq1=p[:,0]\r\n",
        "qq2=p[:,1]\r\n",
        "qq3=p[:,2]"
      ],
      "execution_count": null,
      "outputs": []
    },
    {
      "cell_type": "code",
      "metadata": {
        "id": "Oyjn9EIv1_Ph"
      },
      "source": [
        "xx=[]\r\n",
        "yy=[]\r\n",
        "theta=[]\r\n",
        "for f in range(0,1000):\r\n",
        "  xx.append(l1*math.cos(qq1[f])+l2*math.cos(qq1[f]+qq2[f])+l3*math.cos(qq1[f]+qq2[f]+qq3[f]))\r\n",
        "  yy.append(l1*math.sin(qq1[f])+l2*math.sin(qq1[f]+qq2[f])+l3*math.sin(qq1[f]+qq2[f]+qq3[f]))\r\n",
        "  theta.append(qq1[f]+qq2[f]+qq3[f])"
      ],
      "execution_count": null,
      "outputs": []
    },
    {
      "cell_type": "code",
      "metadata": {
        "colab": {
          "base_uri": "https://localhost:8080/",
          "height": 282
        },
        "id": "N0MJ3AYP5hcr",
        "outputId": "1f9ed654-1c35-4d0a-f6b4-582204960916"
      },
      "source": [
        "plt.plot(xx,yy,'*')"
      ],
      "execution_count": null,
      "outputs": [
        {
          "output_type": "execute_result",
          "data": {
            "text/plain": [
              "[<matplotlib.lines.Line2D at 0x7f1b279bbd68>]"
            ]
          },
          "metadata": {
            "tags": []
          },
          "execution_count": 125
        },
        {
          "output_type": "display_data",
          "data": {
            "image/png": "[encoded data removed]",
            "text/plain": [
              "<Figure size 432x288 with 1 Axes>"
            ]
          },
          "metadata": {
            "tags": [],
            "needs_background": "light"
          }
        }
      ]
    },
    {
      "cell_type": "code",
      "metadata": {
        "id": "4wiNu4pB5j7m"
      },
      "source": [
        ""
      ],
      "execution_count": null,
      "outputs": []
    }
  ]
}